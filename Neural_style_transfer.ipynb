{
 "cells": [
  {
   "cell_type": "code",
   "execution_count": 1,
   "metadata": {},
   "outputs": [],
   "source": [
    "import numpy as np\n",
    "import time\n",
    "\n",
    "from tensorflow.keras.preprocessing.image import load_img, img_to_array\n",
    "from tensorflow.keras.applications import vgg19\n",
    "from tensorflow.keras import backend as K\n",
    "\n",
    "from scipy.optimize import fmin_l_bfgs_b\n",
    "from scipy.misc import imsave"
   ]
  },
  {
   "cell_type": "code",
   "execution_count": 237,
   "metadata": {},
   "outputs": [],
   "source": [
    "target_path = 'musk_boii.jpg'\n",
    "style_path = 'wave.jpg'\n",
    "\n",
    "width, height = load_img(target_path).size\n",
    "image_height = 400\n",
    "image_width = int(width * image_height/height)"
   ]
  },
  {
   "cell_type": "code",
   "execution_count": 238,
   "metadata": {},
   "outputs": [],
   "source": [
    "def preprocess_image(image_path):\n",
    "    \n",
    "    img = load_img(image_path, target_size = (image_height, image_width))\n",
    "    img = img_to_array(img)\n",
    "    img = np.expand_dims(img, axis = 0)\n",
    "    img = vgg19.preprocess_input(img)\n",
    "    \n",
    "    return img"
   ]
  },
  {
   "cell_type": "code",
   "execution_count": 239,
   "metadata": {},
   "outputs": [],
   "source": [
    "def deprocess_image(x):\n",
    "    \n",
    "    x[:, :, 0] += 103.939\n",
    "    x[:, :, 1] += 116.779\n",
    "    x[:, :, 2] += 123.68\n",
    "    \n",
    "    x = x[:, :, ::-1]\n",
    "    x = np.clip(x, 0, 255).astype('uint8')\n",
    "    \n",
    "    return x"
   ]
  },
  {
   "cell_type": "code",
   "execution_count": 240,
   "metadata": {},
   "outputs": [],
   "source": [
    "target_image = K.constant(preprocess_image(target_path))\n",
    "style_ref_image = K.constant(preprocess_image(style_path))\n",
    "combined_image = K.placeholder((1, image_height, image_width, 3))\n",
    "\n",
    "input_tensor = K.concatenate([target_image, style_ref_image, combined_image], axis = 0)\n",
    "\n",
    "model = vgg19.VGG19(input_tensor = input_tensor, weights = 'imagenet', include_top = False)"
   ]
  },
  {
   "cell_type": "code",
   "execution_count": 241,
   "metadata": {},
   "outputs": [],
   "source": [
    "def content_loss(base, combination):\n",
    "    return K.sum(K.square(combination - base))"
   ]
  },
  {
   "cell_type": "code",
   "execution_count": 242,
   "metadata": {},
   "outputs": [],
   "source": [
    "def gram_matrix(x):\n",
    "    \n",
    "    features = K.batch_flatten(K.permute_dimensions(x, (2, 0, 1)))\n",
    "    gram = K.dot(features, K.transpose(features))\n",
    "    \n",
    "    return gram"
   ]
  },
  {
   "cell_type": "code",
   "execution_count": 245,
   "metadata": {},
   "outputs": [],
   "source": [
    "def style_loss(style, combination):\n",
    "    \n",
    "    S = gram_matrix(style)\n",
    "    C = gram_matrix(combination)\n",
    "    channels = 3\n",
    "    size = image_height * image_width\n",
    "    \n",
    "    return K.sum(K.square(S - C)) / (4.0 * (channels ** 2) * size ** 2)"
   ]
  },
  {
   "cell_type": "code",
   "execution_count": 246,
   "metadata": {},
   "outputs": [],
   "source": [
    "def total_variation_loss(x):\n",
    "    \n",
    "    a = K.square(\n",
    "                x[:, :image_height - 1, :image_width - 1, :] - \n",
    "                x[:, 1:, :image_width - 1, :])\n",
    "    b = K.square(\n",
    "                x[:, :image_height - 1, :image_width - 1, :] - \n",
    "                x[:, 1:, :image_height - 1, :])\n",
    "    \n",
    "    return K.sum(K.pow(a + b, 1.25))"
   ]
  },
  {
   "cell_type": "code",
   "execution_count": 247,
   "metadata": {},
   "outputs": [],
   "source": [
    "outputs_dict = dict([(layer.name, layer.output) for layer in model.layers])\n",
    "content_layer = 'block5_conv2'\n",
    "style_layers = ['block1_conv1',\n",
    "                'block2_conv1',\n",
    "                'block3_conv1',\n",
    "                'block4_conv1',\n",
    "                'block5_conv1',]\n",
    "total_variation_weight = 1e-4\n",
    "style_weight = 1.0\n",
    "content_weight = 0.025"
   ]
  },
  {
   "cell_type": "code",
   "execution_count": 248,
   "metadata": {},
   "outputs": [],
   "source": [
    "loss = K.variable(0.0)\n",
    "layer_features = outputs_dict[content_layer]\n",
    "target_image_features = layer_features[0, :, :, :]\n",
    "combination_features = layer_features[2, :, :, :]\n",
    "\n",
    "loss = loss + content_weight + content_loss(target_image_features, combination_features)\n",
    "\n",
    "for layer_name in style_layers:\n",
    "    \n",
    "    layer_features = outputs_dict[layer_name]\n",
    "    style_ref_features = layer_features[1, :, :, :]\n",
    "    combination_features = layer_features[2, :, :, :]\n",
    "    \n",
    "    sl = style_loss(style_ref_features, combination_features)\n",
    "    \n",
    "    loss = loss + (style_weight / len(style_layers)) * sl\n",
    "    \n",
    "loss = loss + total_variation_weight * total_variation_loss(combined_image)\n"
   ]
  },
  {
   "cell_type": "code",
   "execution_count": 249,
   "metadata": {},
   "outputs": [],
   "source": [
    "grads = K.gradients(loss, combined_image)[0]\n",
    "fetch_loss_and_grads = K.function([combined_image], [loss, grads])"
   ]
  },
  {
   "cell_type": "code",
   "execution_count": 251,
   "metadata": {},
   "outputs": [],
   "source": [
    "class Evaluate(object):\n",
    "    \n",
    "    def __init__(self):\n",
    "        \n",
    "        self.loss_value = None\n",
    "        self.grad_value = None\n",
    "    \n",
    "    def loss(self, x):\n",
    "        \n",
    "        assert self.loss_value is None\n",
    "        x = x.reshape((1, image_height, image_width, 3))\n",
    "        outs = fetch_loss_and_grads([x])\n",
    "        loss_value = outs[0]\n",
    "        grad_value = outs[1].flatten().astype('float64')\n",
    "        self.loss_value = loss_value\n",
    "        self.grad_value = grad_value\n",
    "        \n",
    "        return self.loss_value\n",
    "    \n",
    "    def grads(self, x):\n",
    "        \n",
    "        assert self.loss_value is not None\n",
    "        grad_value = np.copy(self.grad_value)\n",
    "        self.grad_value = None\n",
    "        self.loss_value = None\n",
    "        \n",
    "        return grad_value"
   ]
  },
  {
   "cell_type": "code",
   "execution_count": 252,
   "metadata": {},
   "outputs": [],
   "source": [
    "evaluator = Evaluate()"
   ]
  },
  {
   "cell_type": "code",
   "execution_count": null,
   "metadata": {},
   "outputs": [
    {
     "name": "stdout",
     "output_type": "stream",
     "text": [
      "Iteration:  0\n",
      "Loss:  2734188000.0\n",
      "Image Saved\n",
      "Iteration:  1\n"
     ]
    },
    {
     "name": "stderr",
     "output_type": "stream",
     "text": [
      "/home/cleanpegasus/.local/lib/python3.7/site-packages/ipykernel_launcher.py:14: DeprecationWarning: `imsave` is deprecated!\n",
      "`imsave` is deprecated in SciPy 1.0.0, and will be removed in 1.2.0.\n",
      "Use ``imageio.imwrite`` instead.\n",
      "  \n"
     ]
    }
   ],
   "source": [
    "iterations = 20\n",
    "\n",
    "x = preprocess_image(target_path)\n",
    "x = x.flatten()\n",
    "\n",
    "for i in range(iterations):\n",
    "    \n",
    "    print(\"Iteration: \", i)\n",
    "    x, min_val, info = fmin_l_bfgs_b(evaluator.loss, x, fprime = evaluator.grads, maxfun = 20)\n",
    "    print(\"Loss: \", min_val)\n",
    "    img = x.copy().reshape((image_height, image_width, 3))\n",
    "    img = deprocess_image(img)\n",
    "    fname = \"musk_waves\" + \"_at_iteration_%d.png\" %i\n",
    "    imsave(fname, img)\n",
    "    print(\"Image Saved\")\n",
    "    "
   ]
  },
  {
   "cell_type": "code",
   "execution_count": null,
   "metadata": {},
   "outputs": [],
   "source": []
  },
  {
   "cell_type": "code",
   "execution_count": null,
   "metadata": {},
   "outputs": [],
   "source": []
  }
 ],
 "metadata": {
  "kernelspec": {
   "display_name": "Python 3",
   "language": "python",
   "name": "python3"
  },
  "language_info": {
   "codemirror_mode": {
    "name": "ipython",
    "version": 3
   },
   "file_extension": ".py",
   "mimetype": "text/x-python",
   "name": "python",
   "nbconvert_exporter": "python",
   "pygments_lexer": "ipython3",
   "version": "3.7.5"
  }
 },
 "nbformat": 4,
 "nbformat_minor": 2
}
